{
 "cells": [
  {
   "cell_type": "code",
   "execution_count": null,
   "metadata": {
    "scrolled": true
   },
   "outputs": [],
   "source": [
    "import os\n",
    "os.environ[\"CUDA_VISIBLE_DEVICES\"]=\"0\"\n",
    "import tensorflow as tf\n",
    "print(\"Num GPUs Available: \", len(tf.config.experimental.list_physical_devices('GPU')))\n",
    "\n",
    "from utils.trainer_utils import TrainConfig\n",
    "from flearn.trainer.fedavg import FedAvg\n",
    "from flearn.trainer.fesem import FeSEM\n",
    "from flearn.trainer.fedgroup import FedGroup\n",
    "from flearn.trainer.ifca import IFCA\n",
    "\n",
    "def main(dataset, model, trainer, glr, dynamic, tagg, swap_p, shift_type, temp, RAC, RCC):\n",
    "    config = TrainConfig(dataset, model, trainer)\n",
    "    config.trainer_config['group_agg_lr'] = glr\n",
    "    config.trainer_config['RAC'] = RAC\n",
    "    config.trainer_config['RCC'] = RCC\n",
    "    config.trainer_config['dynamic'] = dynamic\n",
    "    config.trainer_config['temp_agg'] = tagg\n",
    "    config.trainer_config['swap_p'] = swap_p\n",
    "    config.trainer_config['shift_type'] = shift_type\n",
    "    config.client_config['temperature'] = temp\n",
    "    config.trainer_config['temp_metrics'] = 'l2'\n",
    "    config.trainer_config['temp_func'] = 'linear'\n",
    "    \n",
    "    if trainer == 'fedavg':\n",
    "        trainer = FedAvg(config)\n",
    "    if trainer == 'fesem':\n",
    "        trainer = FeSEM(config)\n",
    "    if trainer == 'ifca':\n",
    "        trainer = IFCA(config)\n",
    "    if trainer == 'fedgroup':\n",
    "        trainer = FedGroup(config)\n",
    "    trainer.train()\n",
    "\n",
    "task_list = [  \n",
    "            ('femnist', 'mlp', 'ifca', 0, True, False, 0.05, 'part', None, False, False), # IFCA\n",
    "            ('femnist', 'mlp', 'fesem', 0, True, False, 0.05, 'part', None, False, False), # FeSEM\n",
    "            ]\n",
    "\n",
    "for idx, task in enumerate(task_list):\n",
    "    print(f'Runing {idx+1} task!!')\n",
    "    main(*task)"
   ]
  },
  {
   "cell_type": "code",
   "execution_count": null,
   "metadata": {},
   "outputs": [],
   "source": []
  },
  {
   "cell_type": "code",
   "execution_count": null,
   "metadata": {},
   "outputs": [],
   "source": []
  }
 ],
 "metadata": {
  "kernelspec": {
   "display_name": "Python 3",
   "language": "python",
   "name": "python3"
  },
  "language_info": {
   "codemirror_mode": {
    "name": "ipython",
    "version": 3
   },
   "file_extension": ".py",
   "mimetype": "text/x-python",
   "name": "python",
   "nbconvert_exporter": "python",
   "pygments_lexer": "ipython3",
   "version": "3.8.5"
  }
 },
 "nbformat": 4,
 "nbformat_minor": 4
}
