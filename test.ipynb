{
 "cells": [
  {
   "cell_type": "code",
   "execution_count": null,
   "metadata": {
    "scrolled": true
   },
   "outputs": [],
   "source": [
    "import os\n",
    "os.environ[\"CUDA_VISIBLE_DEVICES\"]=\"0\"\n",
    "import tensorflow as tf\n",
    "print(\"Num GPUs Available: \", len(tf.config.experimental.list_physical_devices('GPU')))\n",
    "\n",
    "from utils.trainer_utils import TrainConfig\n",
    "from flearn.trainer.fedavg import FedAvg\n",
    "from flearn.trainer.fesem import FeSEM\n",
    "from flearn.trainer.fedgroup import FedGroup\n",
    "from flearn.trainer.ifca import IFCA\n",
    "\n",
    "def main():\n",
    "    config = TrainConfig('fmnist', 'cnn', 'fedgroup')\n",
    "    config.trainer_config['dynamic'] = True\n",
    "    config.trainer_config['temp_agg'] = False\n",
    "    config.trainer_config['swap_p'] = 0.05\n",
    "    config.trainer_config['shift_type'] = 'part'\n",
    "    config.client_config['temperature'] = 3\n",
    "    config.trainer_config['temp_metrics'] = 'l2'\n",
    "    config.trainer_config['temp_func'] = 'linear'\n",
    "    trainer = FedGroup(config)\n",
    "    trainer.train()\n",
    "    #trainer.train_locally()\n",
    "\n",
    "main()"
   ]
  },
  {
   "cell_type": "code",
   "execution_count": null,
   "metadata": {},
   "outputs": [],
   "source": []
  }
 ],
 "metadata": {
  "kernelspec": {
   "display_name": "Python 3",
   "language": "python",
   "name": "python3"
  },
  "language_info": {
   "codemirror_mode": {
    "name": "ipython",
    "version": 3
   },
   "file_extension": ".py",
   "mimetype": "text/x-python",
   "name": "python",
   "nbconvert_exporter": "python",
   "pygments_lexer": "ipython3",
   "version": "3.8.5"
  }
 },
 "nbformat": 4,
 "nbformat_minor": 4
}
